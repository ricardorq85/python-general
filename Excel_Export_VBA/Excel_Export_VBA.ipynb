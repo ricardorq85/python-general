{
 "cells": [
  {
   "cell_type": "code",
   "execution_count": 1,
   "metadata": {},
   "outputs": [],
   "source": [
    "import os\n",
    "import shutil\n",
    "from oletools.olevba3 import VBA_Parser\n",
    "\n",
    "\n",
    "EXCEL_FILE_EXTENSIONS = ('xlsb', 'xls', 'xlsm', 'xla', 'xlt', 'xlam',)\n",
    "KEEP_NAME = False  # Set this to True if you would like to keep \"Attribute VB_Name\"\n",
    "\n",
    "\n",
    "def parse(workbook_path):\n",
    "    vba_path = 'src.vba'\n",
    "    vba_parser = VBA_Parser(workbook_path)\n",
    "    vba_modules = vba_parser.extract_all_macros() if vba_parser.detect_vba_macros() else []\n",
    "\n",
    "    for _, _, filename, content in vba_modules:\n",
    "        #print(content)\n",
    "        decoded_content = content #content.decode('latin-1')\n",
    "        lines = []\n",
    "        if '\\r\\n' in decoded_content:\n",
    "            lines = decoded_content.split('\\r\\n')\n",
    "        else:\n",
    "            lines = decoded_content.split('\\n')\n",
    "        if lines:\n",
    "            content = []\n",
    "            for line in lines:\n",
    "                if line.startswith('Attribute') and 'VB_' in line:\n",
    "                    if 'VB_Name' in line and KEEP_NAME:\n",
    "                        content.append(line)\n",
    "                else:\n",
    "                    content.append(line)\n",
    "            if content and content[-1] == '':\n",
    "                content.pop(len(content)-1)\n",
    "                non_empty_lines_of_code = len([c for c in content if c])\n",
    "                if non_empty_lines_of_code > 0:\n",
    "                    if not os.path.exists(os.path.join(vba_path)):\n",
    "                        os.makedirs(vba_path)\n",
    "                    with open(os.path.join(vba_path, filename), 'w', encoding='utf-8') as f:\n",
    "                        f.write('\\n'.join(content))\n",
    "\n",
    "\n",
    "if __name__ == '__main__':\n",
    "    for root, dirs, files in os.walk('.'):\n",
    "        for f in dirs:\n",
    "            if f.endswith('.vba'):\n",
    "                shutil.rmtree(os.path.join(root, f))\n",
    "\n",
    "        for f in files:\n",
    "            if f.endswith(EXCEL_FILE_EXTENSIONS):\n",
    "                parse(os.path.join(root, f))"
   ]
  },
  {
   "cell_type": "code",
   "execution_count": 3,
   "metadata": {},
   "outputs": [],
   "source": [
    "path = \"D:\\OneDrive - Grupo EPM\\Descargas\\OfertaEPMV110.xlsm\"\n",
    "parse(path)"
   ]
  }
 ],
 "metadata": {
  "kernelspec": {
   "display_name": "Python 3",
   "language": "python",
   "name": "python3"
  },
  "language_info": {
   "codemirror_mode": {
    "name": "ipython",
    "version": 3
   },
   "file_extension": ".py",
   "mimetype": "text/x-python",
   "name": "python",
   "nbconvert_exporter": "python",
   "pygments_lexer": "ipython3",
   "version": "3.7.3"
  }
 },
 "nbformat": 4,
 "nbformat_minor": 2
}
